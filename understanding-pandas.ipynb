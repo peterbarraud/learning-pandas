{
 "metadata": {
  "language_info": {
   "codemirror_mode": {
    "name": "ipython",
    "version": 3
   },
   "file_extension": ".py",
   "mimetype": "text/x-python",
   "name": "python",
   "nbconvert_exporter": "python",
   "pygments_lexer": "ipython3",
   "version": "3.6.9-final"
  },
  "orig_nbformat": 2,
  "kernelspec": {
   "name": "Python 3.6.9 64-bit",
   "display_name": "Python 3.6.9 64-bit",
   "metadata": {
    "interpreter": {
     "hash": "31f2aee4e71d21fbe5cf8b01ff0e069b9275f58929596ceb00d14d90e3e16cd6"
    }
   }
  }
 },
 "nbformat": 4,
 "nbformat_minor": 2,
 "cells": [
  {
   "cell_type": "markdown",
   "metadata": {},
   "source": [
    "# Let's learn Pandas by looking at simple Emp data"
   ]
  },
  {
   "cell_type": "code",
   "execution_count": 1,
   "metadata": {},
   "outputs": [],
   "source": [
    "import pandas as pd\n",
    "\n",
    "df = pd.read_csv('emp.db.csv',skiprows=4)"
   ]
  },
  {
   "cell_type": "markdown",
   "metadata": {},
   "source": [
    "## Some useful information to start off"
   ]
  },
  {
   "cell_type": "code",
   "execution_count": 2,
   "metadata": {
    "tags": []
   },
   "outputs": [
    {
     "output_type": "stream",
     "name": "stdout",
     "text": [
      "<class 'pandas.core.frame.DataFrame'>\nRangeIndex: 13 entries, 0 to 12\nData columns (total 7 columns):\n #   Column      Non-Null Count  Dtype  \n---  ------      --------------  -----  \n 0   name        13 non-null     object \n 1   basic       13 non-null     float64\n 2   hra         13 non-null     float64\n 3   da_percent  13 non-null     int64  \n 4   dept        13 non-null     object \n 5   dob         13 non-null     object \n 6   doj         13 non-null     object \ndtypes: float64(2), int64(1), object(4)\nmemory usage: 856.0+ bytes\n"
     ]
    },
    {
     "output_type": "execute_result",
     "data": {
      "text/plain": [
       "Index(['name', 'basic', 'hra', 'da_percent', 'dept', 'dob', 'doj'], dtype='object')"
      ]
     },
     "metadata": {},
     "execution_count": 2
    }
   ],
   "source": [
    "# the first n (5, by default) rows \n",
    "df.head(1)\n",
    "# display the last n (5, by default) rows \n",
    "df.tail(1)\n",
    "# column info - names, data type etc\n",
    "df.info()\n",
    "# column list\n",
    "df.columns\n"
   ]
  },
  {
   "cell_type": "markdown",
   "metadata": {},
   "source": [
    "## Single column data (pandas series)"
   ]
  },
  {
   "cell_type": "code",
   "execution_count": 3,
   "metadata": {
    "tags": []
   },
   "outputs": [
    {
     "output_type": "stream",
     "name": "stdout",
     "text": [
      "<class 'pandas.core.series.Series'>\n0      Floop McMan\n1    John Mohammed\n2       Poker John\n3    Hoop Ganjaopl\n4     Merk Kepinam\nName: name, dtype: object\n"
     ]
    }
   ],
   "source": [
    "print(type(df['name']))\n",
    "print(df['name'].head())"
   ]
  },
  {
   "cell_type": "markdown",
   "metadata": {},
   "source": [
    "## Multi column data (dataframe)\n",
    "Nice to graph data"
   ]
  },
  {
   "cell_type": "code",
   "execution_count": 4,
   "metadata": {
    "tags": []
   },
   "outputs": [
    {
     "output_type": "stream",
     "name": "stdout",
     "text": [
      "<class 'pandas.core.frame.DataFrame'>\n             name         dob\n0     Floop McMan   5/14/1973\n1   John Mohammed    9/2/1972\n2      Poker John   4/25/1998\n3   Hoop Ganjaopl   5/22/1995\n4    Merk Kepinam   3/28/1988\n5    Pern Stapuga  11/13/1970\n6    Jacob Burmin    5/6/1983\n7    Brihat Makdo   4/10/1982\n8    Brouni Sadip   5/27/1976\n9    Jaspi Makdop   12/9/1985\n10   Cheni Branti    4/8/1973\n11     Dro Nupone   6/19/1977\n12    Zepi Jaskip  10/21/1975\n"
     ]
    }
   ],
   "source": [
    "print(type(df[['name','dob']]))\n",
    "print(df[['name','dob']])"
   ]
  },
  {
   "cell_type": "markdown",
   "metadata": {},
   "source": [
    "## iloc - integer location\n",
    "* first arg - the rows you want\n",
    "* second arg - the columns you want"
   ]
  },
  {
   "cell_type": "markdown",
   "metadata": {},
   "source": [
    "### filter rows"
   ]
  },
  {
   "cell_type": "code",
   "execution_count": 5,
   "metadata": {},
   "outputs": [
    {
     "output_type": "execute_result",
     "data": {
      "text/plain": [
       "           name     basic       hra  da_percent dept         dob        doj\n",
       "12  Zepi Jaskip  56858.46  19336.46          84   HR  10/21/1975  5/22/2010"
      ],
      "text/html": "<div>\n<style scoped>\n    .dataframe tbody tr th:only-of-type {\n        vertical-align: middle;\n    }\n\n    .dataframe tbody tr th {\n        vertical-align: top;\n    }\n\n    .dataframe thead th {\n        text-align: right;\n    }\n</style>\n<table border=\"1\" class=\"dataframe\">\n  <thead>\n    <tr style=\"text-align: right;\">\n      <th></th>\n      <th>name</th>\n      <th>basic</th>\n      <th>hra</th>\n      <th>da_percent</th>\n      <th>dept</th>\n      <th>dob</th>\n      <th>doj</th>\n    </tr>\n  </thead>\n  <tbody>\n    <tr>\n      <th>12</th>\n      <td>Zepi Jaskip</td>\n      <td>56858.46</td>\n      <td>19336.46</td>\n      <td>84</td>\n      <td>HR</td>\n      <td>10/21/1975</td>\n      <td>5/22/2010</td>\n    </tr>\n  </tbody>\n</table>\n</div>"
     },
     "metadata": {},
     "execution_count": 5
    }
   ],
   "source": [
    "# get first row\n",
    "df.iloc[0]\n",
    "# get first to third rows (slicing doesn't include last)\n",
    "df.iloc[0:3]\n",
    "# get second to last\n",
    "df.iloc[1:]\n",
    "# basically use slicing the way you would with python lists\n",
    "# all that weird stuff like [-1:] et al\n",
    "df.iloc[-1:]"
   ]
  },
  {
   "cell_type": "markdown",
   "metadata": {},
   "source": [
    "### filter rows & columns"
   ]
  },
  {
   "cell_type": "code",
   "execution_count": 6,
   "metadata": {},
   "outputs": [
    {
     "output_type": "execute_result",
     "data": {
      "text/plain": [
       "      basic  da_percent         dob\n",
       "0  41124.18          80   5/14/1973\n",
       "1  46211.32          71    9/2/1972\n",
       "2  73181.69         100   4/25/1998\n",
       "3  41044.48          62   5/22/1995\n",
       "4  60954.38          93   3/28/1988\n",
       "5  63689.49          69  11/13/1970\n",
       "6  79791.61          99    5/6/1983\n",
       "7  52062.62          84   4/10/1982\n",
       "8  58422.94          87   5/27/1976\n",
       "9  46887.73          64   12/9/1985"
      ],
      "text/html": "<div>\n<style scoped>\n    .dataframe tbody tr th:only-of-type {\n        vertical-align: middle;\n    }\n\n    .dataframe tbody tr th {\n        vertical-align: top;\n    }\n\n    .dataframe thead th {\n        text-align: right;\n    }\n</style>\n<table border=\"1\" class=\"dataframe\">\n  <thead>\n    <tr style=\"text-align: right;\">\n      <th></th>\n      <th>basic</th>\n      <th>da_percent</th>\n      <th>dob</th>\n    </tr>\n  </thead>\n  <tbody>\n    <tr>\n      <th>0</th>\n      <td>41124.18</td>\n      <td>80</td>\n      <td>5/14/1973</td>\n    </tr>\n    <tr>\n      <th>1</th>\n      <td>46211.32</td>\n      <td>71</td>\n      <td>9/2/1972</td>\n    </tr>\n    <tr>\n      <th>2</th>\n      <td>73181.69</td>\n      <td>100</td>\n      <td>4/25/1998</td>\n    </tr>\n    <tr>\n      <th>3</th>\n      <td>41044.48</td>\n      <td>62</td>\n      <td>5/22/1995</td>\n    </tr>\n    <tr>\n      <th>4</th>\n      <td>60954.38</td>\n      <td>93</td>\n      <td>3/28/1988</td>\n    </tr>\n    <tr>\n      <th>5</th>\n      <td>63689.49</td>\n      <td>69</td>\n      <td>11/13/1970</td>\n    </tr>\n    <tr>\n      <th>6</th>\n      <td>79791.61</td>\n      <td>99</td>\n      <td>5/6/1983</td>\n    </tr>\n    <tr>\n      <th>7</th>\n      <td>52062.62</td>\n      <td>84</td>\n      <td>4/10/1982</td>\n    </tr>\n    <tr>\n      <th>8</th>\n      <td>58422.94</td>\n      <td>87</td>\n      <td>5/27/1976</td>\n    </tr>\n    <tr>\n      <th>9</th>\n      <td>46887.73</td>\n      <td>64</td>\n      <td>12/9/1985</td>\n    </tr>\n  </tbody>\n</table>\n</div>"
     },
     "metadata": {},
     "execution_count": 6
    }
   ],
   "source": [
    "# first row, first to third columns\n",
    "df.iloc[0,1:4]\n",
    "# all rows, first column\n",
    "df.iloc[:,0]\n",
    "# all rows, first to 4th columns (again non-inclusive last)\n",
    "df.iloc[:,0:5]\n",
    "# first 10 rows, first third and fifth columns (skip)\n",
    "df.iloc[:10,1:6:2]"
   ]
  },
  {
   "cell_type": "markdown",
   "metadata": {},
   "source": [
    "## iterate rows"
   ]
  },
  {
   "cell_type": "code",
   "execution_count": 7,
   "metadata": {
    "tags": []
   },
   "outputs": [
    {
     "output_type": "stream",
     "name": "stdout",
     "text": [
      "name          Floop McMan\nbasic             41124.2\nhra               18566.5\nda_percent             80\ndept                  Fin\ndob             5/14/1973\ndoj              6/3/2016\nName: 0, dtype: object\nname          John Mohammed\nbasic               46211.3\nhra                 10571.8\nda_percent               71\ndept                     IT\ndob                9/2/1972\ndoj              11/13/2011\nName: 1, dtype: object\n"
     ]
    }
   ],
   "source": [
    "for i, r in df.iloc[0:2].iterrows():\n",
    "    print(r)    # each row is a series object"
   ]
  },
  {
   "cell_type": "markdown",
   "metadata": {},
   "source": [
    "## loc - column name\n",
    "(also referred to as Boolean indexing, I think)\n",
    "\n",
    "**Note**: loc returns a dataframe. So, you can do other dataframe stuff on the output of loc"
   ]
  },
  {
   "cell_type": "code",
   "execution_count": 8,
   "metadata": {},
   "outputs": [
    {
     "output_type": "execute_result",
     "data": {
      "text/plain": [
       "            name     basic       hra  da_percent dept         dob        doj\n",
       "2     Poker John  73181.69  19710.86         100   HR   4/25/1998  3/19/2019\n",
       "9   Jaspi Makdop  46887.73  16494.96          64   HR   12/9/1985  6/21/2016\n",
       "10  Cheni Branti  64967.64  10611.87          68   HR    4/8/1973  8/28/2016\n",
       "12   Zepi Jaskip  56858.46  19336.46          84   HR  10/21/1975  5/22/2010"
      ],
      "text/html": "<div>\n<style scoped>\n    .dataframe tbody tr th:only-of-type {\n        vertical-align: middle;\n    }\n\n    .dataframe tbody tr th {\n        vertical-align: top;\n    }\n\n    .dataframe thead th {\n        text-align: right;\n    }\n</style>\n<table border=\"1\" class=\"dataframe\">\n  <thead>\n    <tr style=\"text-align: right;\">\n      <th></th>\n      <th>name</th>\n      <th>basic</th>\n      <th>hra</th>\n      <th>da_percent</th>\n      <th>dept</th>\n      <th>dob</th>\n      <th>doj</th>\n    </tr>\n  </thead>\n  <tbody>\n    <tr>\n      <th>2</th>\n      <td>Poker John</td>\n      <td>73181.69</td>\n      <td>19710.86</td>\n      <td>100</td>\n      <td>HR</td>\n      <td>4/25/1998</td>\n      <td>3/19/2019</td>\n    </tr>\n    <tr>\n      <th>9</th>\n      <td>Jaspi Makdop</td>\n      <td>46887.73</td>\n      <td>16494.96</td>\n      <td>64</td>\n      <td>HR</td>\n      <td>12/9/1985</td>\n      <td>6/21/2016</td>\n    </tr>\n    <tr>\n      <th>10</th>\n      <td>Cheni Branti</td>\n      <td>64967.64</td>\n      <td>10611.87</td>\n      <td>68</td>\n      <td>HR</td>\n      <td>4/8/1973</td>\n      <td>8/28/2016</td>\n    </tr>\n    <tr>\n      <th>12</th>\n      <td>Zepi Jaskip</td>\n      <td>56858.46</td>\n      <td>19336.46</td>\n      <td>84</td>\n      <td>HR</td>\n      <td>10/21/1975</td>\n      <td>5/22/2010</td>\n    </tr>\n  </tbody>\n</table>\n</div>"
     },
     "metadata": {},
     "execution_count": 8
    }
   ],
   "source": [
    "df.loc[df['dept'] == 'HR']"
   ]
  },
  {
   "cell_type": "markdown",
   "metadata": {},
   "source": [
    "## Get some overall stats about the dataframe"
   ]
  },
  {
   "cell_type": "code",
   "execution_count": 9,
   "metadata": {},
   "outputs": [
    {
     "output_type": "execute_result",
     "data": {
      "text/plain": [
       "              basic           hra  da_percent\n",
       "count     13.000000     13.000000   13.000000\n",
       "mean   56782.439231  15857.836154   78.615385\n",
       "std    11805.558744   3234.589019   13.763106\n",
       "min    41044.480000  10571.810000   61.000000\n",
       "25%    46887.730000  14373.730000   68.000000\n",
       "50%    56858.460000  16494.960000   80.000000\n",
       "75%    63689.490000  18566.530000   87.000000\n",
       "max    79791.610000  19710.860000  100.000000"
      ],
      "text/html": "<div>\n<style scoped>\n    .dataframe tbody tr th:only-of-type {\n        vertical-align: middle;\n    }\n\n    .dataframe tbody tr th {\n        vertical-align: top;\n    }\n\n    .dataframe thead th {\n        text-align: right;\n    }\n</style>\n<table border=\"1\" class=\"dataframe\">\n  <thead>\n    <tr style=\"text-align: right;\">\n      <th></th>\n      <th>basic</th>\n      <th>hra</th>\n      <th>da_percent</th>\n    </tr>\n  </thead>\n  <tbody>\n    <tr>\n      <th>count</th>\n      <td>13.000000</td>\n      <td>13.000000</td>\n      <td>13.000000</td>\n    </tr>\n    <tr>\n      <th>mean</th>\n      <td>56782.439231</td>\n      <td>15857.836154</td>\n      <td>78.615385</td>\n    </tr>\n    <tr>\n      <th>std</th>\n      <td>11805.558744</td>\n      <td>3234.589019</td>\n      <td>13.763106</td>\n    </tr>\n    <tr>\n      <th>min</th>\n      <td>41044.480000</td>\n      <td>10571.810000</td>\n      <td>61.000000</td>\n    </tr>\n    <tr>\n      <th>25%</th>\n      <td>46887.730000</td>\n      <td>14373.730000</td>\n      <td>68.000000</td>\n    </tr>\n    <tr>\n      <th>50%</th>\n      <td>56858.460000</td>\n      <td>16494.960000</td>\n      <td>80.000000</td>\n    </tr>\n    <tr>\n      <th>75%</th>\n      <td>63689.490000</td>\n      <td>18566.530000</td>\n      <td>87.000000</td>\n    </tr>\n    <tr>\n      <th>max</th>\n      <td>79791.610000</td>\n      <td>19710.860000</td>\n      <td>100.000000</td>\n    </tr>\n  </tbody>\n</table>\n</div>"
     },
     "metadata": {},
     "execution_count": 9
    }
   ],
   "source": [
    "df.describe()"
   ]
  },
  {
   "cell_type": "markdown",
   "metadata": {},
   "source": [
    "## Sorting"
   ]
  },
  {
   "cell_type": "code",
   "execution_count": 10,
   "metadata": {},
   "outputs": [
    {
     "output_type": "execute_result",
     "data": {
      "text/plain": [
       "            name     basic       hra  da_percent dept         dob        doj\n",
       "12   Zepi Jaskip  56858.46  19336.46          84   HR  10/21/1975  5/22/2010\n",
       "2     Poker John  73181.69  19710.86         100   HR   4/25/1998  3/19/2019\n",
       "9   Jaspi Makdop  46887.73  16494.96          64   HR   12/9/1985  6/21/2016\n",
       "10  Cheni Branti  64967.64  10611.87          68   HR    4/8/1973  8/28/2016"
      ],
      "text/html": "<div>\n<style scoped>\n    .dataframe tbody tr th:only-of-type {\n        vertical-align: middle;\n    }\n\n    .dataframe tbody tr th {\n        vertical-align: top;\n    }\n\n    .dataframe thead th {\n        text-align: right;\n    }\n</style>\n<table border=\"1\" class=\"dataframe\">\n  <thead>\n    <tr style=\"text-align: right;\">\n      <th></th>\n      <th>name</th>\n      <th>basic</th>\n      <th>hra</th>\n      <th>da_percent</th>\n      <th>dept</th>\n      <th>dob</th>\n      <th>doj</th>\n    </tr>\n  </thead>\n  <tbody>\n    <tr>\n      <th>12</th>\n      <td>Zepi Jaskip</td>\n      <td>56858.46</td>\n      <td>19336.46</td>\n      <td>84</td>\n      <td>HR</td>\n      <td>10/21/1975</td>\n      <td>5/22/2010</td>\n    </tr>\n    <tr>\n      <th>2</th>\n      <td>Poker John</td>\n      <td>73181.69</td>\n      <td>19710.86</td>\n      <td>100</td>\n      <td>HR</td>\n      <td>4/25/1998</td>\n      <td>3/19/2019</td>\n    </tr>\n    <tr>\n      <th>9</th>\n      <td>Jaspi Makdop</td>\n      <td>46887.73</td>\n      <td>16494.96</td>\n      <td>64</td>\n      <td>HR</td>\n      <td>12/9/1985</td>\n      <td>6/21/2016</td>\n    </tr>\n    <tr>\n      <th>10</th>\n      <td>Cheni Branti</td>\n      <td>64967.64</td>\n      <td>10611.87</td>\n      <td>68</td>\n      <td>HR</td>\n      <td>4/8/1973</td>\n      <td>8/28/2016</td>\n    </tr>\n  </tbody>\n</table>\n</div>"
     },
     "metadata": {},
     "execution_count": 10
    }
   ],
   "source": [
    "# single column\n",
    "df.sort_values('name', ascending=False) ## ascending is optional\n",
    "# multiple columns\n",
    "df[df['dept']=='HR'].sort_values(['name','basic'], ascending=[False,True]) #descending on first (ascending=False); ascending on second (ascending=True)"
   ]
  },
  {
   "cell_type": "markdown",
   "metadata": {},
   "source": [
    "## Now some computed fields\n",
    "basic_hra = basic + hra"
   ]
  },
  {
   "cell_type": "code",
   "execution_count": 11,
   "metadata": {},
   "outputs": [
    {
     "output_type": "execute_result",
     "data": {
      "text/plain": [
       "             name     basic       hra  basic+hra  da_percent   dept  \\\n",
       "0     Floop McMan  41124.18  18566.53   59690.71          80    Fin   \n",
       "1   John Mohammed  46211.32  10571.81   56783.13          71     IT   \n",
       "2      Poker John  73181.69  19710.86   92892.55         100     HR   \n",
       "3   Hoop Ganjaopl  41044.48  15979.12   57023.60          62  Engg.   \n",
       "4    Merk Kepinam  60954.38  17687.51   78641.89          93     IT   \n",
       "5    Pern Stapuga  63689.49  11535.77   75225.26          69  Engg.   \n",
       "6    Jacob Burmin  79791.61  17086.09   96877.70          99    Fin   \n",
       "7    Brihat Makdo  52062.62  15286.64   67349.26          84  Engg.   \n",
       "8    Brouni Sadip  58422.94  18910.52   77333.46          87     IT   \n",
       "9    Jaspi Makdop  46887.73  16494.96   63382.69          64     HR   \n",
       "10   Cheni Branti  64967.64  10611.87   75579.51          68     HR   \n",
       "11     Dro Nupone  52975.17  14373.73   67348.90          61     IT   \n",
       "12    Zepi Jaskip  56858.46  19336.46   76194.92          84     HR   \n",
       "\n",
       "           dob         doj  \n",
       "0    5/14/1973    6/3/2016  \n",
       "1     9/2/1972  11/13/2011  \n",
       "2    4/25/1998   3/19/2019  \n",
       "3    5/22/1995   8/29/2017  \n",
       "4    3/28/1988   6/27/2015  \n",
       "5   11/13/1970   10/6/2012  \n",
       "6     5/6/1983    9/2/2011  \n",
       "7    4/10/1982    8/3/2015  \n",
       "8    5/27/1976   9/31/2012  \n",
       "9    12/9/1985   6/21/2016  \n",
       "10    4/8/1973   8/28/2016  \n",
       "11   6/19/1977    7/1/2018  \n",
       "12  10/21/1975   5/22/2010  "
      ],
      "text/html": "<div>\n<style scoped>\n    .dataframe tbody tr th:only-of-type {\n        vertical-align: middle;\n    }\n\n    .dataframe tbody tr th {\n        vertical-align: top;\n    }\n\n    .dataframe thead th {\n        text-align: right;\n    }\n</style>\n<table border=\"1\" class=\"dataframe\">\n  <thead>\n    <tr style=\"text-align: right;\">\n      <th></th>\n      <th>name</th>\n      <th>basic</th>\n      <th>hra</th>\n      <th>basic+hra</th>\n      <th>da_percent</th>\n      <th>dept</th>\n      <th>dob</th>\n      <th>doj</th>\n    </tr>\n  </thead>\n  <tbody>\n    <tr>\n      <th>0</th>\n      <td>Floop McMan</td>\n      <td>41124.18</td>\n      <td>18566.53</td>\n      <td>59690.71</td>\n      <td>80</td>\n      <td>Fin</td>\n      <td>5/14/1973</td>\n      <td>6/3/2016</td>\n    </tr>\n    <tr>\n      <th>1</th>\n      <td>John Mohammed</td>\n      <td>46211.32</td>\n      <td>10571.81</td>\n      <td>56783.13</td>\n      <td>71</td>\n      <td>IT</td>\n      <td>9/2/1972</td>\n      <td>11/13/2011</td>\n    </tr>\n    <tr>\n      <th>2</th>\n      <td>Poker John</td>\n      <td>73181.69</td>\n      <td>19710.86</td>\n      <td>92892.55</td>\n      <td>100</td>\n      <td>HR</td>\n      <td>4/25/1998</td>\n      <td>3/19/2019</td>\n    </tr>\n    <tr>\n      <th>3</th>\n      <td>Hoop Ganjaopl</td>\n      <td>41044.48</td>\n      <td>15979.12</td>\n      <td>57023.60</td>\n      <td>62</td>\n      <td>Engg.</td>\n      <td>5/22/1995</td>\n      <td>8/29/2017</td>\n    </tr>\n    <tr>\n      <th>4</th>\n      <td>Merk Kepinam</td>\n      <td>60954.38</td>\n      <td>17687.51</td>\n      <td>78641.89</td>\n      <td>93</td>\n      <td>IT</td>\n      <td>3/28/1988</td>\n      <td>6/27/2015</td>\n    </tr>\n    <tr>\n      <th>5</th>\n      <td>Pern Stapuga</td>\n      <td>63689.49</td>\n      <td>11535.77</td>\n      <td>75225.26</td>\n      <td>69</td>\n      <td>Engg.</td>\n      <td>11/13/1970</td>\n      <td>10/6/2012</td>\n    </tr>\n    <tr>\n      <th>6</th>\n      <td>Jacob Burmin</td>\n      <td>79791.61</td>\n      <td>17086.09</td>\n      <td>96877.70</td>\n      <td>99</td>\n      <td>Fin</td>\n      <td>5/6/1983</td>\n      <td>9/2/2011</td>\n    </tr>\n    <tr>\n      <th>7</th>\n      <td>Brihat Makdo</td>\n      <td>52062.62</td>\n      <td>15286.64</td>\n      <td>67349.26</td>\n      <td>84</td>\n      <td>Engg.</td>\n      <td>4/10/1982</td>\n      <td>8/3/2015</td>\n    </tr>\n    <tr>\n      <th>8</th>\n      <td>Brouni Sadip</td>\n      <td>58422.94</td>\n      <td>18910.52</td>\n      <td>77333.46</td>\n      <td>87</td>\n      <td>IT</td>\n      <td>5/27/1976</td>\n      <td>9/31/2012</td>\n    </tr>\n    <tr>\n      <th>9</th>\n      <td>Jaspi Makdop</td>\n      <td>46887.73</td>\n      <td>16494.96</td>\n      <td>63382.69</td>\n      <td>64</td>\n      <td>HR</td>\n      <td>12/9/1985</td>\n      <td>6/21/2016</td>\n    </tr>\n    <tr>\n      <th>10</th>\n      <td>Cheni Branti</td>\n      <td>64967.64</td>\n      <td>10611.87</td>\n      <td>75579.51</td>\n      <td>68</td>\n      <td>HR</td>\n      <td>4/8/1973</td>\n      <td>8/28/2016</td>\n    </tr>\n    <tr>\n      <th>11</th>\n      <td>Dro Nupone</td>\n      <td>52975.17</td>\n      <td>14373.73</td>\n      <td>67348.90</td>\n      <td>61</td>\n      <td>IT</td>\n      <td>6/19/1977</td>\n      <td>7/1/2018</td>\n    </tr>\n    <tr>\n      <th>12</th>\n      <td>Zepi Jaskip</td>\n      <td>56858.46</td>\n      <td>19336.46</td>\n      <td>76194.92</td>\n      <td>84</td>\n      <td>HR</td>\n      <td>10/21/1975</td>\n      <td>5/22/2010</td>\n    </tr>\n  </tbody>\n</table>\n</div>"
     },
     "metadata": {},
     "execution_count": 11
    }
   ],
   "source": [
    "# using iloc - first arg is number of ci\n",
    "df['basic+hra'] = df.iloc[:,1:3].sum(axis=1)  #axix=0 y-axis"
   ]
  },
  {
   "cell_type": "markdown",
   "metadata": {},
   "source": [
    "## Reordering columns\n",
    "You just create another df with columns in the specified order (a little tacky, I think)"
   ]
  },
  {
   "cell_type": "code",
   "execution_count": 15,
   "metadata": {},
   "outputs": [
    {
     "output_type": "execute_result",
     "data": {
      "text/plain": [
       "             name     basic       hra         doj  basic+hra  da_percent  \\\n",
       "0     Floop McMan  41124.18  18566.53    6/3/2016   59690.71          80   \n",
       "1   John Mohammed  46211.32  10571.81  11/13/2011   56783.13          71   \n",
       "2      Poker John  73181.69  19710.86   3/19/2019   92892.55         100   \n",
       "3   Hoop Ganjaopl  41044.48  15979.12   8/29/2017   57023.60          62   \n",
       "4    Merk Kepinam  60954.38  17687.51   6/27/2015   78641.89          93   \n",
       "5    Pern Stapuga  63689.49  11535.77   10/6/2012   75225.26          69   \n",
       "6    Jacob Burmin  79791.61  17086.09    9/2/2011   96877.70          99   \n",
       "7    Brihat Makdo  52062.62  15286.64    8/3/2015   67349.26          84   \n",
       "8    Brouni Sadip  58422.94  18910.52   9/31/2012   77333.46          87   \n",
       "9    Jaspi Makdop  46887.73  16494.96   6/21/2016   63382.69          64   \n",
       "10   Cheni Branti  64967.64  10611.87   8/28/2016   75579.51          68   \n",
       "11     Dro Nupone  52975.17  14373.73    7/1/2018   67348.90          61   \n",
       "12    Zepi Jaskip  56858.46  19336.46   5/22/2010   76194.92          84   \n",
       "\n",
       "     dept         dob  \n",
       "0     Fin   5/14/1973  \n",
       "1      IT    9/2/1972  \n",
       "2      HR   4/25/1998  \n",
       "3   Engg.   5/22/1995  \n",
       "4      IT   3/28/1988  \n",
       "5   Engg.  11/13/1970  \n",
       "6     Fin    5/6/1983  \n",
       "7   Engg.   4/10/1982  \n",
       "8      IT   5/27/1976  \n",
       "9      HR   12/9/1985  \n",
       "10     HR    4/8/1973  \n",
       "11     IT   6/19/1977  \n",
       "12     HR  10/21/1975  "
      ],
      "text/html": "<div>\n<style scoped>\n    .dataframe tbody tr th:only-of-type {\n        vertical-align: middle;\n    }\n\n    .dataframe tbody tr th {\n        vertical-align: top;\n    }\n\n    .dataframe thead th {\n        text-align: right;\n    }\n</style>\n<table border=\"1\" class=\"dataframe\">\n  <thead>\n    <tr style=\"text-align: right;\">\n      <th></th>\n      <th>name</th>\n      <th>basic</th>\n      <th>hra</th>\n      <th>doj</th>\n      <th>basic+hra</th>\n      <th>da_percent</th>\n      <th>dept</th>\n      <th>dob</th>\n    </tr>\n  </thead>\n  <tbody>\n    <tr>\n      <th>0</th>\n      <td>Floop McMan</td>\n      <td>41124.18</td>\n      <td>18566.53</td>\n      <td>6/3/2016</td>\n      <td>59690.71</td>\n      <td>80</td>\n      <td>Fin</td>\n      <td>5/14/1973</td>\n    </tr>\n    <tr>\n      <th>1</th>\n      <td>John Mohammed</td>\n      <td>46211.32</td>\n      <td>10571.81</td>\n      <td>11/13/2011</td>\n      <td>56783.13</td>\n      <td>71</td>\n      <td>IT</td>\n      <td>9/2/1972</td>\n    </tr>\n    <tr>\n      <th>2</th>\n      <td>Poker John</td>\n      <td>73181.69</td>\n      <td>19710.86</td>\n      <td>3/19/2019</td>\n      <td>92892.55</td>\n      <td>100</td>\n      <td>HR</td>\n      <td>4/25/1998</td>\n    </tr>\n    <tr>\n      <th>3</th>\n      <td>Hoop Ganjaopl</td>\n      <td>41044.48</td>\n      <td>15979.12</td>\n      <td>8/29/2017</td>\n      <td>57023.60</td>\n      <td>62</td>\n      <td>Engg.</td>\n      <td>5/22/1995</td>\n    </tr>\n    <tr>\n      <th>4</th>\n      <td>Merk Kepinam</td>\n      <td>60954.38</td>\n      <td>17687.51</td>\n      <td>6/27/2015</td>\n      <td>78641.89</td>\n      <td>93</td>\n      <td>IT</td>\n      <td>3/28/1988</td>\n    </tr>\n    <tr>\n      <th>5</th>\n      <td>Pern Stapuga</td>\n      <td>63689.49</td>\n      <td>11535.77</td>\n      <td>10/6/2012</td>\n      <td>75225.26</td>\n      <td>69</td>\n      <td>Engg.</td>\n      <td>11/13/1970</td>\n    </tr>\n    <tr>\n      <th>6</th>\n      <td>Jacob Burmin</td>\n      <td>79791.61</td>\n      <td>17086.09</td>\n      <td>9/2/2011</td>\n      <td>96877.70</td>\n      <td>99</td>\n      <td>Fin</td>\n      <td>5/6/1983</td>\n    </tr>\n    <tr>\n      <th>7</th>\n      <td>Brihat Makdo</td>\n      <td>52062.62</td>\n      <td>15286.64</td>\n      <td>8/3/2015</td>\n      <td>67349.26</td>\n      <td>84</td>\n      <td>Engg.</td>\n      <td>4/10/1982</td>\n    </tr>\n    <tr>\n      <th>8</th>\n      <td>Brouni Sadip</td>\n      <td>58422.94</td>\n      <td>18910.52</td>\n      <td>9/31/2012</td>\n      <td>77333.46</td>\n      <td>87</td>\n      <td>IT</td>\n      <td>5/27/1976</td>\n    </tr>\n    <tr>\n      <th>9</th>\n      <td>Jaspi Makdop</td>\n      <td>46887.73</td>\n      <td>16494.96</td>\n      <td>6/21/2016</td>\n      <td>63382.69</td>\n      <td>64</td>\n      <td>HR</td>\n      <td>12/9/1985</td>\n    </tr>\n    <tr>\n      <th>10</th>\n      <td>Cheni Branti</td>\n      <td>64967.64</td>\n      <td>10611.87</td>\n      <td>8/28/2016</td>\n      <td>75579.51</td>\n      <td>68</td>\n      <td>HR</td>\n      <td>4/8/1973</td>\n    </tr>\n    <tr>\n      <th>11</th>\n      <td>Dro Nupone</td>\n      <td>52975.17</td>\n      <td>14373.73</td>\n      <td>7/1/2018</td>\n      <td>67348.90</td>\n      <td>61</td>\n      <td>IT</td>\n      <td>6/19/1977</td>\n    </tr>\n    <tr>\n      <th>12</th>\n      <td>Zepi Jaskip</td>\n      <td>56858.46</td>\n      <td>19336.46</td>\n      <td>5/22/2010</td>\n      <td>76194.92</td>\n      <td>84</td>\n      <td>HR</td>\n      <td>10/21/1975</td>\n    </tr>\n  </tbody>\n</table>\n</div>"
     },
     "metadata": {},
     "execution_count": 15
    }
   ],
   "source": [
    "# and then rearrange0 the cols to put basic+hra after the basic and hr cols\n",
    "# first get the cols list\n",
    "cols = list(df.columns.values)\n",
    "df = df[cols[0:3] + cols[-1:] + cols[3:7]]\n",
    "df"
   ]
  },
  {
   "cell_type": "code",
   "execution_count": null,
   "metadata": {},
   "outputs": [],
   "source": []
  },
  {
   "cell_type": "code",
   "execution_count": null,
   "metadata": {},
   "outputs": [],
   "source": []
  }
 ]
}