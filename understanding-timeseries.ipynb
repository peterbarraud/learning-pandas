{
 "metadata": {
  "language_info": {
   "codemirror_mode": {
    "name": "ipython",
    "version": 3
   },
   "file_extension": ".py",
   "mimetype": "text/x-python",
   "name": "python",
   "nbconvert_exporter": "python",
   "pygments_lexer": "ipython3",
   "version": "3.6.9-final"
  },
  "orig_nbformat": 2,
  "kernelspec": {
   "name": "Python 3.6.9 64-bit",
   "display_name": "Python 3.6.9 64-bit",
   "metadata": {
    "interpreter": {
     "hash": "31f2aee4e71d21fbe5cf8b01ff0e069b9275f58929596ceb00d14d90e3e16cd6"
    }
   }
  }
 },
 "nbformat": 4,
 "nbformat_minor": 2,
 "cells": [
  {
   "cell_type": "code",
   "execution_count": 2,
   "metadata": {},
   "outputs": [
    {
     "output_type": "execute_result",
     "data": {
      "text/plain": [
       "        Date  Open      High       Low     Close  Adj Close   Volume\n",
       "0 1986-08-14   0.0  0.230469  0.222656  0.222656   0.161679  4160000\n",
       "1 1986-08-15   0.0  0.222656  0.218750  0.218750   0.158843  4332800"
      ],
      "text/html": "<div>\n<style scoped>\n    .dataframe tbody tr th:only-of-type {\n        vertical-align: middle;\n    }\n\n    .dataframe tbody tr th {\n        vertical-align: top;\n    }\n\n    .dataframe thead th {\n        text-align: right;\n    }\n</style>\n<table border=\"1\" class=\"dataframe\">\n  <thead>\n    <tr style=\"text-align: right;\">\n      <th></th>\n      <th>Date</th>\n      <th>Open</th>\n      <th>High</th>\n      <th>Low</th>\n      <th>Close</th>\n      <th>Adj Close</th>\n      <th>Volume</th>\n    </tr>\n  </thead>\n  <tbody>\n    <tr>\n      <th>0</th>\n      <td>1986-08-14</td>\n      <td>0.0</td>\n      <td>0.230469</td>\n      <td>0.222656</td>\n      <td>0.222656</td>\n      <td>0.161679</td>\n      <td>4160000</td>\n    </tr>\n    <tr>\n      <th>1</th>\n      <td>1986-08-15</td>\n      <td>0.0</td>\n      <td>0.222656</td>\n      <td>0.218750</td>\n      <td>0.218750</td>\n      <td>0.158843</td>\n      <td>4332800</td>\n    </tr>\n  </tbody>\n</table>\n</div>"
     },
     "metadata": {},
     "execution_count": 2
    }
   ],
   "source": [
    "import pandas as pd\n",
    "# convert Date col dtype to numpy (I think) datetime\n",
    "parse_date = lambda x: pd.datetime.strptime(x, '%Y-%m-%d')\n",
    "df = pd.read_csv('adbe.csv', parse_dates=['Date'], date_parser=parse_date)\n",
    "# test a date parser\n",
    "df.loc[0, 'Date'].day_name()\n",
    "# get number of rows and cols\n",
    "df.shape\n",
    "df.head(2)"
   ]
  },
  {
   "cell_type": "code",
   "execution_count": 3,
   "metadata": {},
   "outputs": [
    {
     "output_type": "execute_result",
     "data": {
      "text/plain": [
       "        Date  Open      High       Low     Close  Adj Close   Volume       Day\n",
       "0 1986-08-14   0.0  0.230469  0.222656  0.222656   0.161679  4160000  Thursday\n",
       "1 1986-08-15   0.0  0.222656  0.218750  0.218750   0.158843  4332800    Friday"
      ],
      "text/html": "<div>\n<style scoped>\n    .dataframe tbody tr th:only-of-type {\n        vertical-align: middle;\n    }\n\n    .dataframe tbody tr th {\n        vertical-align: top;\n    }\n\n    .dataframe thead th {\n        text-align: right;\n    }\n</style>\n<table border=\"1\" class=\"dataframe\">\n  <thead>\n    <tr style=\"text-align: right;\">\n      <th></th>\n      <th>Date</th>\n      <th>Open</th>\n      <th>High</th>\n      <th>Low</th>\n      <th>Close</th>\n      <th>Adj Close</th>\n      <th>Volume</th>\n      <th>Day</th>\n    </tr>\n  </thead>\n  <tbody>\n    <tr>\n      <th>0</th>\n      <td>1986-08-14</td>\n      <td>0.0</td>\n      <td>0.230469</td>\n      <td>0.222656</td>\n      <td>0.222656</td>\n      <td>0.161679</td>\n      <td>4160000</td>\n      <td>Thursday</td>\n    </tr>\n    <tr>\n      <th>1</th>\n      <td>1986-08-15</td>\n      <td>0.0</td>\n      <td>0.222656</td>\n      <td>0.218750</td>\n      <td>0.218750</td>\n      <td>0.158843</td>\n      <td>4332800</td>\n      <td>Friday</td>\n    </tr>\n  </tbody>\n</table>\n</div>"
     },
     "metadata": {},
     "execution_count": 3
    }
   ],
   "source": [
    "df['Day'] = df['Date'].dt.day_name()\n",
    "df.head(2)"
   ]
  },
  {
   "cell_type": "markdown",
   "metadata": {},
   "source": [
    "## Boolean indexing to get the first and last days in the series"
   ]
  },
  {
   "cell_type": "code",
   "execution_count": 4,
   "metadata": {},
   "outputs": [
    {
     "output_type": "stream",
     "name": "stdout",
     "text": [
      "        Date  Open      High       Low     Close  Adj Close   Volume       Day\n0 1986-08-14   0.0  0.230469  0.222656  0.222656   0.161679  4160000  Thursday\n           Date   Open        High         Low       Close   Adj Close  \\\n8614 2020-10-16  504.0  510.339996  500.700012  502.820007  502.820007   \n\n       Volume     Day  \n8614  2441200  Friday  \n"
     ]
    }
   ],
   "source": [
    "print(df.loc[df['Date'] == df['Date'].min()])\n",
    "print(df.loc[df['Date'] == df['Date'].max()])"
   ]
  },
  {
   "cell_type": "code",
   "execution_count": 5,
   "metadata": {},
   "outputs": [
    {
     "output_type": "execute_result",
     "data": {
      "text/plain": [
       "12482"
      ]
     },
     "metadata": {},
     "execution_count": 5
    }
   ],
   "source": [
    "(df['Date'].max() - df['Date'].min()).days"
   ]
  },
  {
   "cell_type": "code",
   "execution_count": 6,
   "metadata": {},
   "outputs": [
    {
     "output_type": "execute_result",
     "data": {
      "text/plain": [
       "           Date        Open        High         Low       Close   Adj Close  \\\n",
       "8414 2020-01-02  330.000000  334.480011  329.170013  334.429993  334.429993   \n",
       "8415 2020-01-03  329.170013  332.980011  328.690002  331.809998  331.809998   \n",
       "8416 2020-01-06  328.290009  333.910004  328.190002  333.709991  333.709991   \n",
       "8417 2020-01-07  334.149994  334.790009  332.309998  333.390015  333.390015   \n",
       "8418 2020-01-08  333.809998  339.230011  333.399994  337.869995  337.869995   \n",
       "...         ...         ...         ...         ...         ...         ...   \n",
       "8610 2020-10-12  508.260010  516.000000  499.540009  510.890015  510.890015   \n",
       "8611 2020-10-13  512.190002  519.599976  511.899994  514.309998  514.309998   \n",
       "8612 2020-10-14  514.340027  516.950012  501.600006  506.309998  506.309998   \n",
       "8613 2020-10-15  499.260010  502.500000  491.850006  501.149994  501.149994   \n",
       "8614 2020-10-16  504.000000  510.339996  500.700012  502.820007  502.820007   \n",
       "\n",
       "       Volume        Day  \n",
       "8414  1990100   Thursday  \n",
       "8415  1577600     Friday  \n",
       "8416  1874700     Monday  \n",
       "8417  2500800    Tuesday  \n",
       "8418  2248500  Wednesday  \n",
       "...       ...        ...  \n",
       "8610  3149700     Monday  \n",
       "8611  2438100    Tuesday  \n",
       "8612  2032900  Wednesday  \n",
       "8613  2042800   Thursday  \n",
       "8614  2441200     Friday  \n",
       "\n",
       "[201 rows x 8 columns]"
      ],
      "text/html": "<div>\n<style scoped>\n    .dataframe tbody tr th:only-of-type {\n        vertical-align: middle;\n    }\n\n    .dataframe tbody tr th {\n        vertical-align: top;\n    }\n\n    .dataframe thead th {\n        text-align: right;\n    }\n</style>\n<table border=\"1\" class=\"dataframe\">\n  <thead>\n    <tr style=\"text-align: right;\">\n      <th></th>\n      <th>Date</th>\n      <th>Open</th>\n      <th>High</th>\n      <th>Low</th>\n      <th>Close</th>\n      <th>Adj Close</th>\n      <th>Volume</th>\n      <th>Day</th>\n    </tr>\n  </thead>\n  <tbody>\n    <tr>\n      <th>8414</th>\n      <td>2020-01-02</td>\n      <td>330.000000</td>\n      <td>334.480011</td>\n      <td>329.170013</td>\n      <td>334.429993</td>\n      <td>334.429993</td>\n      <td>1990100</td>\n      <td>Thursday</td>\n    </tr>\n    <tr>\n      <th>8415</th>\n      <td>2020-01-03</td>\n      <td>329.170013</td>\n      <td>332.980011</td>\n      <td>328.690002</td>\n      <td>331.809998</td>\n      <td>331.809998</td>\n      <td>1577600</td>\n      <td>Friday</td>\n    </tr>\n    <tr>\n      <th>8416</th>\n      <td>2020-01-06</td>\n      <td>328.290009</td>\n      <td>333.910004</td>\n      <td>328.190002</td>\n      <td>333.709991</td>\n      <td>333.709991</td>\n      <td>1874700</td>\n      <td>Monday</td>\n    </tr>\n    <tr>\n      <th>8417</th>\n      <td>2020-01-07</td>\n      <td>334.149994</td>\n      <td>334.790009</td>\n      <td>332.309998</td>\n      <td>333.390015</td>\n      <td>333.390015</td>\n      <td>2500800</td>\n      <td>Tuesday</td>\n    </tr>\n    <tr>\n      <th>8418</th>\n      <td>2020-01-08</td>\n      <td>333.809998</td>\n      <td>339.230011</td>\n      <td>333.399994</td>\n      <td>337.869995</td>\n      <td>337.869995</td>\n      <td>2248500</td>\n      <td>Wednesday</td>\n    </tr>\n    <tr>\n      <th>...</th>\n      <td>...</td>\n      <td>...</td>\n      <td>...</td>\n      <td>...</td>\n      <td>...</td>\n      <td>...</td>\n      <td>...</td>\n      <td>...</td>\n    </tr>\n    <tr>\n      <th>8610</th>\n      <td>2020-10-12</td>\n      <td>508.260010</td>\n      <td>516.000000</td>\n      <td>499.540009</td>\n      <td>510.890015</td>\n      <td>510.890015</td>\n      <td>3149700</td>\n      <td>Monday</td>\n    </tr>\n    <tr>\n      <th>8611</th>\n      <td>2020-10-13</td>\n      <td>512.190002</td>\n      <td>519.599976</td>\n      <td>511.899994</td>\n      <td>514.309998</td>\n      <td>514.309998</td>\n      <td>2438100</td>\n      <td>Tuesday</td>\n    </tr>\n    <tr>\n      <th>8612</th>\n      <td>2020-10-14</td>\n      <td>514.340027</td>\n      <td>516.950012</td>\n      <td>501.600006</td>\n      <td>506.309998</td>\n      <td>506.309998</td>\n      <td>2032900</td>\n      <td>Wednesday</td>\n    </tr>\n    <tr>\n      <th>8613</th>\n      <td>2020-10-15</td>\n      <td>499.260010</td>\n      <td>502.500000</td>\n      <td>491.850006</td>\n      <td>501.149994</td>\n      <td>501.149994</td>\n      <td>2042800</td>\n      <td>Thursday</td>\n    </tr>\n    <tr>\n      <th>8614</th>\n      <td>2020-10-16</td>\n      <td>504.000000</td>\n      <td>510.339996</td>\n      <td>500.700012</td>\n      <td>502.820007</td>\n      <td>502.820007</td>\n      <td>2441200</td>\n      <td>Friday</td>\n    </tr>\n  </tbody>\n</table>\n<p>201 rows × 8 columns</p>\n</div>"
     },
     "metadata": {},
     "execution_count": 6
    }
   ],
   "source": [
    "df.loc[df['Date'] >= pd.to_datetime('2020-01-01')]"
   ]
  },
  {
   "cell_type": "markdown",
   "metadata": {},
   "source": [
    "## Good idea to set the Date col to index for timeseries"
   ]
  },
  {
   "cell_type": "code",
   "execution_count": 7,
   "metadata": {},
   "outputs": [
    {
     "output_type": "execute_result",
     "data": {
      "text/plain": [
       "                  Open        High         Low       Close   Adj Close  \\\n",
       "Date                                                                     \n",
       "1986-08-14    0.000000    0.230469    0.222656    0.222656    0.161679   \n",
       "1986-08-15    0.000000    0.222656    0.218750    0.218750    0.158843   \n",
       "1986-08-18    0.000000    0.218750    0.210938    0.210938    0.153170   \n",
       "1986-08-19    0.000000    0.218750    0.214844    0.214844    0.156006   \n",
       "1986-08-20    0.000000    0.226563    0.214844    0.214844    0.156006   \n",
       "...                ...         ...         ...         ...         ...   \n",
       "2020-10-12  508.260010  516.000000  499.540009  510.890015  510.890015   \n",
       "2020-10-13  512.190002  519.599976  511.899994  514.309998  514.309998   \n",
       "2020-10-14  514.340027  516.950012  501.600006  506.309998  506.309998   \n",
       "2020-10-15  499.260010  502.500000  491.850006  501.149994  501.149994   \n",
       "2020-10-16  504.000000  510.339996  500.700012  502.820007  502.820007   \n",
       "\n",
       "             Volume        Day  \n",
       "Date                            \n",
       "1986-08-14  4160000   Thursday  \n",
       "1986-08-15  4332800     Friday  \n",
       "1986-08-18  2828800     Monday  \n",
       "1986-08-19  2060800    Tuesday  \n",
       "1986-08-20   684800  Wednesday  \n",
       "...             ...        ...  \n",
       "2020-10-12  3149700     Monday  \n",
       "2020-10-13  2438100    Tuesday  \n",
       "2020-10-14  2032900  Wednesday  \n",
       "2020-10-15  2042800   Thursday  \n",
       "2020-10-16  2441200     Friday  \n",
       "\n",
       "[8615 rows x 7 columns]"
      ],
      "text/html": "<div>\n<style scoped>\n    .dataframe tbody tr th:only-of-type {\n        vertical-align: middle;\n    }\n\n    .dataframe tbody tr th {\n        vertical-align: top;\n    }\n\n    .dataframe thead th {\n        text-align: right;\n    }\n</style>\n<table border=\"1\" class=\"dataframe\">\n  <thead>\n    <tr style=\"text-align: right;\">\n      <th></th>\n      <th>Open</th>\n      <th>High</th>\n      <th>Low</th>\n      <th>Close</th>\n      <th>Adj Close</th>\n      <th>Volume</th>\n      <th>Day</th>\n    </tr>\n    <tr>\n      <th>Date</th>\n      <th></th>\n      <th></th>\n      <th></th>\n      <th></th>\n      <th></th>\n      <th></th>\n      <th></th>\n    </tr>\n  </thead>\n  <tbody>\n    <tr>\n      <th>1986-08-14</th>\n      <td>0.000000</td>\n      <td>0.230469</td>\n      <td>0.222656</td>\n      <td>0.222656</td>\n      <td>0.161679</td>\n      <td>4160000</td>\n      <td>Thursday</td>\n    </tr>\n    <tr>\n      <th>1986-08-15</th>\n      <td>0.000000</td>\n      <td>0.222656</td>\n      <td>0.218750</td>\n      <td>0.218750</td>\n      <td>0.158843</td>\n      <td>4332800</td>\n      <td>Friday</td>\n    </tr>\n    <tr>\n      <th>1986-08-18</th>\n      <td>0.000000</td>\n      <td>0.218750</td>\n      <td>0.210938</td>\n      <td>0.210938</td>\n      <td>0.153170</td>\n      <td>2828800</td>\n      <td>Monday</td>\n    </tr>\n    <tr>\n      <th>1986-08-19</th>\n      <td>0.000000</td>\n      <td>0.218750</td>\n      <td>0.214844</td>\n      <td>0.214844</td>\n      <td>0.156006</td>\n      <td>2060800</td>\n      <td>Tuesday</td>\n    </tr>\n    <tr>\n      <th>1986-08-20</th>\n      <td>0.000000</td>\n      <td>0.226563</td>\n      <td>0.214844</td>\n      <td>0.214844</td>\n      <td>0.156006</td>\n      <td>684800</td>\n      <td>Wednesday</td>\n    </tr>\n    <tr>\n      <th>...</th>\n      <td>...</td>\n      <td>...</td>\n      <td>...</td>\n      <td>...</td>\n      <td>...</td>\n      <td>...</td>\n      <td>...</td>\n    </tr>\n    <tr>\n      <th>2020-10-12</th>\n      <td>508.260010</td>\n      <td>516.000000</td>\n      <td>499.540009</td>\n      <td>510.890015</td>\n      <td>510.890015</td>\n      <td>3149700</td>\n      <td>Monday</td>\n    </tr>\n    <tr>\n      <th>2020-10-13</th>\n      <td>512.190002</td>\n      <td>519.599976</td>\n      <td>511.899994</td>\n      <td>514.309998</td>\n      <td>514.309998</td>\n      <td>2438100</td>\n      <td>Tuesday</td>\n    </tr>\n    <tr>\n      <th>2020-10-14</th>\n      <td>514.340027</td>\n      <td>516.950012</td>\n      <td>501.600006</td>\n      <td>506.309998</td>\n      <td>506.309998</td>\n      <td>2032900</td>\n      <td>Wednesday</td>\n    </tr>\n    <tr>\n      <th>2020-10-15</th>\n      <td>499.260010</td>\n      <td>502.500000</td>\n      <td>491.850006</td>\n      <td>501.149994</td>\n      <td>501.149994</td>\n      <td>2042800</td>\n      <td>Thursday</td>\n    </tr>\n    <tr>\n      <th>2020-10-16</th>\n      <td>504.000000</td>\n      <td>510.339996</td>\n      <td>500.700012</td>\n      <td>502.820007</td>\n      <td>502.820007</td>\n      <td>2441200</td>\n      <td>Friday</td>\n    </tr>\n  </tbody>\n</table>\n<p>8615 rows × 7 columns</p>\n</div>"
     },
     "metadata": {},
     "execution_count": 7
    }
   ],
   "source": [
    "df.set_index('Date', inplace=True)\n",
    "df"
   ]
  },
  {
   "cell_type": "markdown",
   "metadata": {},
   "source": [
    "## Now use simple slicing"
   ]
  },
  {
   "cell_type": "code",
   "execution_count": 8,
   "metadata": {},
   "outputs": [
    {
     "output_type": "stream",
     "name": "stdout",
     "text": [
      "354.72999954999995\n331.809998\n383.27999900000003\n14.607439967571867\n"
     ]
    }
   ],
   "source": [
    "df['2018':'2019']\n",
    "df['2020-01':'2020-02']\n",
    "# let's get stats on closing price for Jan - Feb\n",
    "ser_close = df['2020-01':'2020-02']['Close']\n",
    "print(ser_close.mean())\n",
    "print(ser_close.min())\n",
    "print(ser_close.max())\n",
    "print(ser_close.std())  # standard deviation"
   ]
  },
  {
   "cell_type": "markdown",
   "metadata": {},
   "source": [
    "## Resampling\n",
    "let's use resampling to get the max closing per month of year 2019"
   ]
  },
  {
   "cell_type": "code",
   "execution_count": 9,
   "metadata": {},
   "outputs": [
    {
     "output_type": "execute_result",
     "data": {
      "text/plain": [
       "Date\n",
       "2019-01-31    247.820007\n",
       "2019-02-28    262.899994\n",
       "2019-03-31    267.690002\n",
       "2019-04-30    289.250000\n",
       "2019-05-31    285.579987\n",
       "2019-06-30    302.109985\n",
       "2019-07-31    311.269989\n",
       "2019-08-31    298.440002\n",
       "2019-09-30    287.750000\n",
       "2019-10-31    279.390015\n",
       "2019-11-30    309.529999\n",
       "2019-12-31    331.200012\n",
       "Freq: M, Name: Close, dtype: float64"
      ]
     },
     "metadata": {},
     "execution_count": 9
    }
   ],
   "source": [
    "df['2019']['Close'].resample('M').max()"
   ]
  },
  {
   "cell_type": "markdown",
   "metadata": {},
   "source": [
    "## Use `agg` for stats on different cols"
   ]
  },
  {
   "cell_type": "code",
   "execution_count": 10,
   "metadata": {},
   "outputs": [
    {
     "output_type": "execute_result",
     "data": {
      "text/plain": [
       "                 Close        High         Low     Volume\n",
       "Date                                                     \n",
       "2020-01-31  344.954763  356.820007  328.190002   44249000\n",
       "2020-02-29  365.534209  386.750000  324.000000   56917400\n",
       "2020-03-31  318.990000  364.950012  255.130005  126565500\n",
       "2020-04-30  329.446189  356.230011  289.709991   73062200\n",
       "2020-05-31  368.556003  391.269989  340.000000   55543400\n",
       "2020-06-30  411.542275  446.149994  382.000000   70625900\n",
       "2020-07-31  442.405000  470.609985  416.290009   54649300\n",
       "2020-08-31  468.464287  533.700012  431.589996   54517800\n",
       "2020-09-30  485.745239  536.880005  452.519989   84770900\n",
       "2020-10-31  497.131668  519.599976  477.500000   26646100"
      ],
      "text/html": "<div>\n<style scoped>\n    .dataframe tbody tr th:only-of-type {\n        vertical-align: middle;\n    }\n\n    .dataframe tbody tr th {\n        vertical-align: top;\n    }\n\n    .dataframe thead th {\n        text-align: right;\n    }\n</style>\n<table border=\"1\" class=\"dataframe\">\n  <thead>\n    <tr style=\"text-align: right;\">\n      <th></th>\n      <th>Close</th>\n      <th>High</th>\n      <th>Low</th>\n      <th>Volume</th>\n    </tr>\n    <tr>\n      <th>Date</th>\n      <th></th>\n      <th></th>\n      <th></th>\n      <th></th>\n    </tr>\n  </thead>\n  <tbody>\n    <tr>\n      <th>2020-01-31</th>\n      <td>344.954763</td>\n      <td>356.820007</td>\n      <td>328.190002</td>\n      <td>44249000</td>\n    </tr>\n    <tr>\n      <th>2020-02-29</th>\n      <td>365.534209</td>\n      <td>386.750000</td>\n      <td>324.000000</td>\n      <td>56917400</td>\n    </tr>\n    <tr>\n      <th>2020-03-31</th>\n      <td>318.990000</td>\n      <td>364.950012</td>\n      <td>255.130005</td>\n      <td>126565500</td>\n    </tr>\n    <tr>\n      <th>2020-04-30</th>\n      <td>329.446189</td>\n      <td>356.230011</td>\n      <td>289.709991</td>\n      <td>73062200</td>\n    </tr>\n    <tr>\n      <th>2020-05-31</th>\n      <td>368.556003</td>\n      <td>391.269989</td>\n      <td>340.000000</td>\n      <td>55543400</td>\n    </tr>\n    <tr>\n      <th>2020-06-30</th>\n      <td>411.542275</td>\n      <td>446.149994</td>\n      <td>382.000000</td>\n      <td>70625900</td>\n    </tr>\n    <tr>\n      <th>2020-07-31</th>\n      <td>442.405000</td>\n      <td>470.609985</td>\n      <td>416.290009</td>\n      <td>54649300</td>\n    </tr>\n    <tr>\n      <th>2020-08-31</th>\n      <td>468.464287</td>\n      <td>533.700012</td>\n      <td>431.589996</td>\n      <td>54517800</td>\n    </tr>\n    <tr>\n      <th>2020-09-30</th>\n      <td>485.745239</td>\n      <td>536.880005</td>\n      <td>452.519989</td>\n      <td>84770900</td>\n    </tr>\n    <tr>\n      <th>2020-10-31</th>\n      <td>497.131668</td>\n      <td>519.599976</td>\n      <td>477.500000</td>\n      <td>26646100</td>\n    </tr>\n  </tbody>\n</table>\n</div>"
     },
     "metadata": {},
     "execution_count": 10
    }
   ],
   "source": [
    "df['2020'].resample('M').agg({'Close':'mean','High':'max','Low':'min', 'Volume':'sum'})"
   ]
  },
  {
   "cell_type": "code",
   "execution_count": null,
   "metadata": {},
   "outputs": [],
   "source": []
  }
 ]
}